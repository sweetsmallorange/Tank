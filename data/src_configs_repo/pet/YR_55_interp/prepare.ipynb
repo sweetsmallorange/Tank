{
 "cells": [
  {
   "cell_type": "code",
   "execution_count": 7,
   "outputs": [],
   "source": [
    "import numpy as np\n",
    "import pandas as pd\n",
    "from pathlib import Path\n",
    "import datetime\n",
    "\n"
   ],
   "metadata": {
    "collapsed": false,
    "ExecuteTime": {
     "end_time": "2023-12-22T07:36:42.485903100Z",
     "start_time": "2023-12-22T07:36:42.422560200Z"
    }
   },
   "id": "95a3719d0c8b709f"
  },
  {
   "cell_type": "code",
   "execution_count": 8,
   "outputs": [],
   "source": [
    "data_root = Path(\"/data2/zw/dataset/YellowRiver_Benchmarking/data/data\")\n",
    "forcing_interp_root = Path(\"/data2/zw/dataset/YellowRiver_Benchmarking/data/my/YR_55_interp/runoff/forcing\")\n",
    "sitenames = pd.read_csv(\"/data2/zw/dataset/YellowRiver_Benchmarking/data/sitenames.txt\", dtype='str', encoding=\"gbk\",\n",
    "                        header=None)[0]\n",
    "# runoff_interp_root = Path(\"/data2/zw/dataset/YellowRiver_Benchmarking/data/my/runoff_interploated\")\n",
    "runoff_daily_root = Path(\"/data2/zw/dataset/YellowRiver_Benchmarking/data/my/YR_55_interp/runoff\")"
   ],
   "metadata": {
    "collapsed": false,
    "ExecuteTime": {
     "end_time": "2023-12-22T07:36:43.865499Z",
     "start_time": "2023-12-22T07:36:43.281711600Z"
    }
   },
   "id": "fe397ac7cebe8bac"
  },
  {
   "cell_type": "markdown",
   "source": [
    "## interpolate"
   ],
   "metadata": {
    "collapsed": false
   },
   "id": "5f9c8377318b0464"
  },
  {
   "cell_type": "code",
   "execution_count": 6,
   "id": "initial_id",
   "metadata": {
    "collapsed": true,
    "ExecuteTime": {
     "end_time": "2023-12-22T07:36:33.842256800Z",
     "start_time": "2023-12-22T07:36:30.994499200Z"
    }
   },
   "outputs": [
    {
     "ename": "FileNotFoundError",
     "evalue": "[Errno 2] No such file or directory: '/data2/zw/dataset/YellowRiver_Benchmarking/data/my/forcing_interploated/东园.csv'",
     "output_type": "error",
     "traceback": [
      "\u001B[0;31m---------------------------------------------------------------------------\u001B[0m",
      "\u001B[0;31mFileNotFoundError\u001B[0m                         Traceback (most recent call last)",
      "\u001B[0;32m/tmp/ipykernel_37255/3804446004.py\u001B[0m in \u001B[0;36m<module>\u001B[0;34m\u001B[0m\n\u001B[1;32m     10\u001B[0m     df.columns = [\"pre\", \"evp\", \"gst_mean\", \"prs_mean\", \"tem_mean\", \"rhu\", \"win_mean\", \"gst_min\", \"prs_min\",\n\u001B[1;32m     11\u001B[0m                   \"tem_min\", \"gst_max\", \"prs_max\", \"tem_max\", \"ssd\", \"win_max\"]\n\u001B[0;32m---> 12\u001B[0;31m     \u001B[0mdf\u001B[0m\u001B[0;34m.\u001B[0m\u001B[0mto_csv\u001B[0m\u001B[0;34m(\u001B[0m\u001B[0mnew_root\u001B[0m \u001B[0;34m/\u001B[0m \u001B[0;34mf\"{name}.csv\"\u001B[0m\u001B[0;34m,\u001B[0m \u001B[0;34m)\u001B[0m\u001B[0;34m\u001B[0m\u001B[0;34m\u001B[0m\u001B[0m\n\u001B[0m\u001B[1;32m     13\u001B[0m     \u001B[0;31m# break\u001B[0m\u001B[0;34m\u001B[0m\u001B[0;34m\u001B[0m\u001B[0;34m\u001B[0m\u001B[0m\n",
      "\u001B[0;32m~/.conda/envs/research_transformer_py37/lib/python3.7/site-packages/pandas/core/generic.py\u001B[0m in \u001B[0;36mto_csv\u001B[0;34m(self, path_or_buf, sep, na_rep, float_format, columns, header, index, index_label, mode, encoding, compression, quoting, quotechar, line_terminator, chunksize, date_format, doublequote, escapechar, decimal, errors, storage_options)\u001B[0m\n\u001B[1;32m   3480\u001B[0m             \u001B[0mdoublequote\u001B[0m\u001B[0;34m=\u001B[0m\u001B[0mdoublequote\u001B[0m\u001B[0;34m,\u001B[0m\u001B[0;34m\u001B[0m\u001B[0;34m\u001B[0m\u001B[0m\n\u001B[1;32m   3481\u001B[0m             \u001B[0mescapechar\u001B[0m\u001B[0;34m=\u001B[0m\u001B[0mescapechar\u001B[0m\u001B[0;34m,\u001B[0m\u001B[0;34m\u001B[0m\u001B[0;34m\u001B[0m\u001B[0m\n\u001B[0;32m-> 3482\u001B[0;31m             \u001B[0mstorage_options\u001B[0m\u001B[0;34m=\u001B[0m\u001B[0mstorage_options\u001B[0m\u001B[0;34m,\u001B[0m\u001B[0;34m\u001B[0m\u001B[0;34m\u001B[0m\u001B[0m\n\u001B[0m\u001B[1;32m   3483\u001B[0m         )\n\u001B[1;32m   3484\u001B[0m \u001B[0;34m\u001B[0m\u001B[0m\n",
      "\u001B[0;32m~/.conda/envs/research_transformer_py37/lib/python3.7/site-packages/pandas/io/formats/format.py\u001B[0m in \u001B[0;36mto_csv\u001B[0;34m(self, path_or_buf, encoding, sep, columns, index_label, mode, compression, quoting, quotechar, line_terminator, chunksize, date_format, doublequote, escapechar, errors, storage_options)\u001B[0m\n\u001B[1;32m   1103\u001B[0m             \u001B[0mformatter\u001B[0m\u001B[0;34m=\u001B[0m\u001B[0mself\u001B[0m\u001B[0;34m.\u001B[0m\u001B[0mfmt\u001B[0m\u001B[0;34m,\u001B[0m\u001B[0;34m\u001B[0m\u001B[0;34m\u001B[0m\u001B[0m\n\u001B[1;32m   1104\u001B[0m         )\n\u001B[0;32m-> 1105\u001B[0;31m         \u001B[0mcsv_formatter\u001B[0m\u001B[0;34m.\u001B[0m\u001B[0msave\u001B[0m\u001B[0;34m(\u001B[0m\u001B[0;34m)\u001B[0m\u001B[0;34m\u001B[0m\u001B[0;34m\u001B[0m\u001B[0m\n\u001B[0m\u001B[1;32m   1106\u001B[0m \u001B[0;34m\u001B[0m\u001B[0m\n\u001B[1;32m   1107\u001B[0m         \u001B[0;32mif\u001B[0m \u001B[0mcreated_buffer\u001B[0m\u001B[0;34m:\u001B[0m\u001B[0;34m\u001B[0m\u001B[0;34m\u001B[0m\u001B[0m\n",
      "\u001B[0;32m~/.conda/envs/research_transformer_py37/lib/python3.7/site-packages/pandas/io/formats/csvs.py\u001B[0m in \u001B[0;36msave\u001B[0;34m(self)\u001B[0m\n\u001B[1;32m    241\u001B[0m             \u001B[0merrors\u001B[0m\u001B[0;34m=\u001B[0m\u001B[0mself\u001B[0m\u001B[0;34m.\u001B[0m\u001B[0merrors\u001B[0m\u001B[0;34m,\u001B[0m\u001B[0;34m\u001B[0m\u001B[0;34m\u001B[0m\u001B[0m\n\u001B[1;32m    242\u001B[0m             \u001B[0mcompression\u001B[0m\u001B[0;34m=\u001B[0m\u001B[0mself\u001B[0m\u001B[0;34m.\u001B[0m\u001B[0mcompression\u001B[0m\u001B[0;34m,\u001B[0m\u001B[0;34m\u001B[0m\u001B[0;34m\u001B[0m\u001B[0m\n\u001B[0;32m--> 243\u001B[0;31m             \u001B[0mstorage_options\u001B[0m\u001B[0;34m=\u001B[0m\u001B[0mself\u001B[0m\u001B[0;34m.\u001B[0m\u001B[0mstorage_options\u001B[0m\u001B[0;34m,\u001B[0m\u001B[0;34m\u001B[0m\u001B[0;34m\u001B[0m\u001B[0m\n\u001B[0m\u001B[1;32m    244\u001B[0m         ) as handles:\n\u001B[1;32m    245\u001B[0m \u001B[0;34m\u001B[0m\u001B[0m\n",
      "\u001B[0;32m~/.conda/envs/research_transformer_py37/lib/python3.7/site-packages/pandas/io/common.py\u001B[0m in \u001B[0;36mget_handle\u001B[0;34m(path_or_buf, mode, encoding, compression, memory_map, is_text, errors, storage_options)\u001B[0m\n\u001B[1;32m    705\u001B[0m                 \u001B[0mencoding\u001B[0m\u001B[0;34m=\u001B[0m\u001B[0mioargs\u001B[0m\u001B[0;34m.\u001B[0m\u001B[0mencoding\u001B[0m\u001B[0;34m,\u001B[0m\u001B[0;34m\u001B[0m\u001B[0;34m\u001B[0m\u001B[0m\n\u001B[1;32m    706\u001B[0m                 \u001B[0merrors\u001B[0m\u001B[0;34m=\u001B[0m\u001B[0merrors\u001B[0m\u001B[0;34m,\u001B[0m\u001B[0;34m\u001B[0m\u001B[0;34m\u001B[0m\u001B[0m\n\u001B[0;32m--> 707\u001B[0;31m                 \u001B[0mnewline\u001B[0m\u001B[0;34m=\u001B[0m\u001B[0;34m\"\"\u001B[0m\u001B[0;34m,\u001B[0m\u001B[0;34m\u001B[0m\u001B[0;34m\u001B[0m\u001B[0m\n\u001B[0m\u001B[1;32m    708\u001B[0m             )\n\u001B[1;32m    709\u001B[0m         \u001B[0;32melse\u001B[0m\u001B[0;34m:\u001B[0m\u001B[0;34m\u001B[0m\u001B[0;34m\u001B[0m\u001B[0m\n",
      "\u001B[0;31mFileNotFoundError\u001B[0m: [Errno 2] No such file or directory: '/data2/zw/dataset/YellowRiver_Benchmarking/data/my/forcing_interploated/东园.csv'"
     ]
    }
   ],
   "source": [
    "data_root = Path(\"/data2/zw/dataset/YellowRiver_Benchmarking/data/data\")\n",
    "new_root = Path(\"/data2/zw/dataset/YellowRiver_Benchmarking/data/my/forcing_interploated\")\n",
    "sitenames = pd.read_csv(\"/data2/zw/dataset/YellowRiver_Benchmarking/data/sitenames.txt\", dtype='str', encoding=\"gbk\",\n",
    "                        header=None)[0]\n",
    "# sitenames\n",
    "\n",
    "for name in sitenames:\n",
    "    df = pd.read_excel(data_root / name / \"forcing.xlsx\", index_col=\"date\").resample('D').mean().interpolate().dropna()\n",
    "    # print(df.head())\n",
    "    df.columns = [\"pre\", \"evp\", \"gst_mean\", \"prs_mean\", \"tem_mean\", \"rhu\", \"win_mean\", \"gst_min\", \"prs_min\",\n",
    "                  \"tem_min\", \"gst_max\", \"prs_max\", \"tem_max\", \"ssd\", \"win_max\"]\n",
    "    df.to_csv(new_root / f\"{name}.csv\", )\n",
    "    # break"
   ]
  },
  {
   "cell_type": "code",
   "execution_count": null,
   "outputs": [],
   "source": [
    "runoff_root = Path(\"/data2/zw/dataset/YellowRiver_Benchmarking/data/my/runoff_interploated\")\n",
    "for name in sitenames:\n",
    "    df = pd.read_excel(data_root / name / \"streamflow.xlsx\", index_col=\"date\").resample(\n",
    "        'D').mean().interpolate().dropna()\n",
    "    # print(df)\n",
    "    df.to_csv(runoff_root / f\"{name}.csv\", )\n",
    "    # break"
   ],
   "metadata": {
    "collapsed": false,
    "ExecuteTime": {
     "start_time": "2023-12-22T07:36:33.847706600Z"
    }
   },
   "id": "ba05ed738d93f559"
  },
  {
   "cell_type": "markdown",
   "source": [
    "## daily"
   ],
   "metadata": {
    "collapsed": false
   },
   "id": "7c491d42c9e042ad"
  },
  {
   "cell_type": "markdown",
   "source": [
    "### select time"
   ],
   "metadata": {
    "collapsed": false
   },
   "id": "ff684af7ff423b0e"
  },
  {
   "cell_type": "code",
   "execution_count": null,
   "outputs": [],
   "source": [
    "import datetime\n",
    "\n",
    "runoff_root = Path(\"/data2/zw/dataset/YellowRiver_Benchmarking/data/my/runoff_daily\")\n",
    "start_date = pd.to_datetime(\"2010-08-07\", format=\"%Y-%m-%d\")\n",
    "end_data = pd.to_datetime(\"2021-03-30\", format=\"%Y-%m-%d\")\n",
    "start_date\n",
    "for name in sitenames:\n",
    "    df = pd.read_excel(data_root / name / \"streamflow.xlsx\", index_col=\"date\").resample('D').mean().dropna()\n",
    "    if start_date < df.index[0]:\n",
    "        start_date = df.index[0]\n",
    "    if end_data > df.index[-1]:\n",
    "        end_data = df.index[-1]\n",
    "    # print(df)\n",
    "    # df.to_csv(runoff_root / f\"{name}.csv\", )\n",
    "\n",
    "print(start_date, end_data)"
   ],
   "metadata": {
    "collapsed": false,
    "ExecuteTime": {
     "end_time": "2023-12-22T07:36:33.947043100Z",
     "start_time": "2023-12-22T07:36:33.901628Z"
    }
   },
   "id": "846f1c5f4b55f4c9"
  },
  {
   "cell_type": "markdown",
   "source": [
    "## static"
   ],
   "metadata": {
    "collapsed": false
   },
   "id": "17af455f007fb28f"
  },
  {
   "cell_type": "code",
   "execution_count": null,
   "outputs": [],
   "source": [
    "import json\n",
    "\n",
    "data_root = Path(\"/data2/zw/dataset/YellowRiver_Benchmarking/data/data\")\n",
    "\n",
    "sitenames = \\\n",
    "    pd.read_csv(\"/data2/zw/dataset/YellowRiver_Benchmarking/data/sitenames.txt\", dtype='str', encoding=\"gbk\",\n",
    "                header=None)[\n",
    "        0]\n",
    "\n",
    "cols = pd.read_csv(\"/data2/zw/dataset/9_Normal_Camels_YR/my_YR/YR_selected_interp/static\"\n",
    "                   \"/selected_norm_integrated_static_attributes.csv\").columns\n",
    "cols[1:]\n",
    "df = pd.DataFrame(columns=cols)\n",
    "# print(df)\n",
    "for name in sitenames:\n",
    "    with open(data_root / name / 'attributes.json', 'r') as file:\n",
    "        attrs = json.load(file)\n",
    "        # print(attrs)\n",
    "        tmp_values = [name]\n",
    "        for col in cols[1:]:\n",
    "            tmp_values.append(attrs[col])\n",
    "        # print(tmp_values)\n",
    "        tt = pd.DataFrame([tmp_values], columns=df.columns)\n",
    "        # print(tt)\n",
    "        df = pd.concat([df, tt])\n",
    "    # print(df)\n",
    "df = df.set_index('basin')"
   ],
   "metadata": {
    "collapsed": false,
    "ExecuteTime": {
     "start_time": "2023-12-22T07:36:33.902144100Z"
    }
   },
   "id": "bb5efe4965d8a719"
  },
  {
   "cell_type": "code",
   "execution_count": null,
   "outputs": [],
   "source": [
    "# 计算每列的平均值和标准差\n",
    "mean_values = df.mean()\n",
    "# print(mean_values)\n",
    "std_values = df.std()\n",
    "\n",
    "# 应用 Z-Score 归一化公式\n",
    "df_zscore = (df - mean_values) / std_values\n",
    "df_zscore\n",
    "df_zscore.to_csv(\"/data2/zw/dataset/YellowRiver_Benchmarking/data/my/static/norm_static_attributes.csv\")"
   ],
   "metadata": {
    "collapsed": false,
    "ExecuteTime": {
     "start_time": "2023-12-22T07:36:33.902983800Z"
    }
   },
   "id": "7d60cb7735210932"
  },
  {
   "cell_type": "markdown",
   "source": [
    "## 选取可用的时间段"
   ],
   "metadata": {
    "collapsed": false
   },
   "id": "159fc168156defcf"
  },
  {
   "cell_type": "code",
   "execution_count": null,
   "outputs": [],
   "source": [
    "selected_root= Path(\"/data2/zw/dataset/YellowRiver_Benchmarking/data/my/selected\")"
   ],
   "metadata": {
    "collapsed": false,
    "ExecuteTime": {
     "start_time": "2023-12-22T07:36:33.903500800Z"
    }
   },
   "id": "671a32c83ca4fbc4"
  },
  {
   "cell_type": "code",
   "execution_count": 12,
   "outputs": [
    {
     "name": "stdout",
     "output_type": "stream",
     "text": [
      "2000-07-27 00:00:00 2021-03-31 00:00:00\n"
     ]
    }
   ],
   "source": [
    "start_date = pd.to_datetime(\"2010-08-07\", format=\"%Y-%m-%d\")\n",
    "end_data = pd.to_datetime(\"2021-03-30\", format=\"%Y-%m-%d\")\n",
    "for name in sitenames:\n",
    "    df = pd.read_excel(data_root / name / \"streamflow.xlsx\", index_col=\"date\").resample('D').mean().dropna()\n",
    "    if start_date > df.index[0]:\n",
    "        start_date = df.index[0]\n",
    "    if end_data < df.index[-1]:\n",
    "        end_data = df.index[-1]\n",
    "    # print(df)\n",
    "    # df.to_csv(runoff_root / f\"{name}.csv\", )\n",
    "\n",
    "print(start_date, end_data)"
   ],
   "metadata": {
    "collapsed": false,
    "ExecuteTime": {
     "end_time": "2023-12-22T12:35:48.909940700Z",
     "start_time": "2023-12-22T12:35:34.914412600Z"
    }
   },
   "id": "dd31f2383da95e77"
  },
  {
   "cell_type": "code",
   "execution_count": 9,
   "outputs": [
    {
     "name": "stdout",
     "output_type": "stream",
     "text": [
      "2011-07-11 00:00:00 2020-10-01 00:00:00\n"
     ]
    }
   ],
   "source": [
    "start_date = pd.to_datetime(\"2010-08-07\", format=\"%Y-%m-%d\")\n",
    "end_data = pd.to_datetime(\"2021-03-30\", format=\"%Y-%m-%d\")\n",
    "for name in sitenames:\n",
    "    df = pd.read_excel(data_root / name / \"streamflow.xlsx\", index_col=\"date\").resample('D').mean().dropna()\n",
    "    if start_date < df.index[0]:\n",
    "        start_date = df.index[0]\n",
    "    if end_data > df.index[-1]:\n",
    "        end_data = df.index[-1]\n",
    "    # print(df)\n",
    "    # df.to_csv(runoff_root / f\"{name}.csv\", )\n",
    "\n",
    "print(start_date, end_data)"
   ],
   "metadata": {
    "collapsed": false,
    "ExecuteTime": {
     "end_time": "2023-12-22T07:37:06.613381900Z",
     "start_time": "2023-12-22T07:36:49.361821600Z"
    }
   },
   "id": "e0a45973ecf67f0b"
  },
  {
   "cell_type": "code",
   "execution_count": 10,
   "outputs": [],
   "source": [
    "# start_date=pd.to_datetime(\"2017-11-10\", format=\"%Y-%m-%d\")\n",
    "start_date=pd.to_datetime(\"2010-08-01\", format=\"%Y-%m-%d\")\n",
    "end_data=pd.to_datetime(\"2020-10-01\", format=\"%Y-%m-%d\")\n",
    "# start_date=pd.to_datetime(\"2018-10-02\", format=\"%Y-%m-%d\")\n",
    "# end_data=pd.to_datetime(\"2020-10-01\", format=\"%Y-%m-%d\")"
   ],
   "metadata": {
    "collapsed": false,
    "ExecuteTime": {
     "end_time": "2023-12-22T07:37:06.613381900Z",
     "start_time": "2023-12-22T07:37:06.601414400Z"
    }
   },
   "id": "c97077a862a8f677"
  },
  {
   "cell_type": "markdown",
   "source": [],
   "metadata": {
    "collapsed": false
   },
   "id": "1b2f0f8dbcebd3c2"
  },
  {
   "cell_type": "code",
   "execution_count": 11,
   "outputs": [
    {
     "data": {
      "text/plain": "   name  nan_rate start_date   end_date\n0    东园  0.708547 2010-08-07 2020-10-01\n0    偏关  0.565276 2010-08-01 2020-10-01\n0    军功  0.002153 2010-08-01 2020-10-01\n0   凤阁岭  0.651144 2010-08-01 2020-10-01\n0   卓资山  0.685257 2011-07-11 2020-10-01\n0    吉迈  0.001346 2010-08-01 2020-10-01\n0    同仁  0.046837 2010-08-01 2020-10-01\n0    吴旗  0.745895 2010-08-01 2020-10-01\n0   唐乃亥  0.001615 2010-08-01 2020-10-01\n0    唐克  0.492059 2010-08-01 2020-10-01\n0    大宁  0.577927 2010-08-01 2020-10-01\n0    大村  0.578735 2010-08-01 2020-10-01\n0   大车集  0.054105 2010-08-01 2020-10-01\n0    天水  0.735935 2010-08-01 2020-10-01\n0    宁县  0.499596 2010-08-01 2020-10-01\n0    安塞  0.464065 2010-08-01 2020-10-01\n0    岷县  0.013459 2010-08-01 2020-10-01\n0    庆阳  0.745357 2010-08-01 2020-10-01\n0    开边  0.524361 2010-08-01 2020-10-01\n0   张村驿  0.657335 2010-08-01 2020-10-01\n0    折桥  0.164199 2010-08-01 2020-10-01\n0    新安  0.747779 2010-08-01 2020-10-01\n0    新庙  0.774697 2010-08-01 2020-10-01\n0    朱园  0.770659 2010-08-01 2020-10-01\n0    朱阳  0.711171 2010-08-01 2020-10-01\n0   林家坪  0.788425 2010-08-01 2020-10-01\n0    栾川  0.741857 2010-08-01 2020-10-01\n0    武山  0.734859 2010-08-01 2020-10-01\n0    洪德  0.778466 2010-08-01 2020-10-01\n0    济源  0.380350 2010-08-01 2020-10-01\n0   温家川  0.008345 2010-08-01 2020-10-01\n0    漫湾  0.746972 2010-08-01 2020-10-01\n0    潭头  0.756393 2010-08-01 2020-10-01\n0    濮阳  0.353970 2010-08-01 2020-10-01\n0  王道恒塔  0.770659 2010-08-01 2020-10-01\n0    玛曲  0.001077 2010-08-01 2020-10-01\n0   益门镇  0.741319 2010-08-01 2020-10-01\n0   石嘴山  0.001077 2010-08-01 2020-10-01\n0    碌曲  0.013459 2010-08-01 2020-10-01\n0    神木  0.751817 2010-08-01 2020-10-01\n0   秦渡镇  0.397847 2010-08-01 2020-10-01\n0    绥德  0.768775 2010-08-01 2020-10-01\n0   罗敷堡  0.470794 2010-08-01 2020-10-01\n0   罗李村  0.497981 2010-08-01 2020-10-01\n0    范县  0.064334 2010-08-01 2020-10-01\n0    莱芜  0.554778 2010-08-01 2020-10-01\n0   袁家庵  0.739166 2010-08-01 2020-10-01\n0    裴沟  0.577120 2010-08-01 2020-10-01\n0    贾桥  0.758008 2010-08-01 2020-10-01\n0    门堂  0.486676 2010-08-01 2020-10-01\n0   雨落坪  0.401077 2010-08-01 2020-10-01\n0   青阳岔  0.773082 2010-08-01 2020-10-01\n0   马渡王  0.402423 2010-08-01 2020-10-01\n0    鹦鸽  0.732974 2010-08-01 2020-10-01",
      "text/html": "<div>\n<style scoped>\n    .dataframe tbody tr th:only-of-type {\n        vertical-align: middle;\n    }\n\n    .dataframe tbody tr th {\n        vertical-align: top;\n    }\n\n    .dataframe thead th {\n        text-align: right;\n    }\n</style>\n<table border=\"1\" class=\"dataframe\">\n  <thead>\n    <tr style=\"text-align: right;\">\n      <th></th>\n      <th>name</th>\n      <th>nan_rate</th>\n      <th>start_date</th>\n      <th>end_date</th>\n    </tr>\n  </thead>\n  <tbody>\n    <tr>\n      <th>0</th>\n      <td>东园</td>\n      <td>0.708547</td>\n      <td>2010-08-07</td>\n      <td>2020-10-01</td>\n    </tr>\n    <tr>\n      <th>0</th>\n      <td>偏关</td>\n      <td>0.565276</td>\n      <td>2010-08-01</td>\n      <td>2020-10-01</td>\n    </tr>\n    <tr>\n      <th>0</th>\n      <td>军功</td>\n      <td>0.002153</td>\n      <td>2010-08-01</td>\n      <td>2020-10-01</td>\n    </tr>\n    <tr>\n      <th>0</th>\n      <td>凤阁岭</td>\n      <td>0.651144</td>\n      <td>2010-08-01</td>\n      <td>2020-10-01</td>\n    </tr>\n    <tr>\n      <th>0</th>\n      <td>卓资山</td>\n      <td>0.685257</td>\n      <td>2011-07-11</td>\n      <td>2020-10-01</td>\n    </tr>\n    <tr>\n      <th>0</th>\n      <td>吉迈</td>\n      <td>0.001346</td>\n      <td>2010-08-01</td>\n      <td>2020-10-01</td>\n    </tr>\n    <tr>\n      <th>0</th>\n      <td>同仁</td>\n      <td>0.046837</td>\n      <td>2010-08-01</td>\n      <td>2020-10-01</td>\n    </tr>\n    <tr>\n      <th>0</th>\n      <td>吴旗</td>\n      <td>0.745895</td>\n      <td>2010-08-01</td>\n      <td>2020-10-01</td>\n    </tr>\n    <tr>\n      <th>0</th>\n      <td>唐乃亥</td>\n      <td>0.001615</td>\n      <td>2010-08-01</td>\n      <td>2020-10-01</td>\n    </tr>\n    <tr>\n      <th>0</th>\n      <td>唐克</td>\n      <td>0.492059</td>\n      <td>2010-08-01</td>\n      <td>2020-10-01</td>\n    </tr>\n    <tr>\n      <th>0</th>\n      <td>大宁</td>\n      <td>0.577927</td>\n      <td>2010-08-01</td>\n      <td>2020-10-01</td>\n    </tr>\n    <tr>\n      <th>0</th>\n      <td>大村</td>\n      <td>0.578735</td>\n      <td>2010-08-01</td>\n      <td>2020-10-01</td>\n    </tr>\n    <tr>\n      <th>0</th>\n      <td>大车集</td>\n      <td>0.054105</td>\n      <td>2010-08-01</td>\n      <td>2020-10-01</td>\n    </tr>\n    <tr>\n      <th>0</th>\n      <td>天水</td>\n      <td>0.735935</td>\n      <td>2010-08-01</td>\n      <td>2020-10-01</td>\n    </tr>\n    <tr>\n      <th>0</th>\n      <td>宁县</td>\n      <td>0.499596</td>\n      <td>2010-08-01</td>\n      <td>2020-10-01</td>\n    </tr>\n    <tr>\n      <th>0</th>\n      <td>安塞</td>\n      <td>0.464065</td>\n      <td>2010-08-01</td>\n      <td>2020-10-01</td>\n    </tr>\n    <tr>\n      <th>0</th>\n      <td>岷县</td>\n      <td>0.013459</td>\n      <td>2010-08-01</td>\n      <td>2020-10-01</td>\n    </tr>\n    <tr>\n      <th>0</th>\n      <td>庆阳</td>\n      <td>0.745357</td>\n      <td>2010-08-01</td>\n      <td>2020-10-01</td>\n    </tr>\n    <tr>\n      <th>0</th>\n      <td>开边</td>\n      <td>0.524361</td>\n      <td>2010-08-01</td>\n      <td>2020-10-01</td>\n    </tr>\n    <tr>\n      <th>0</th>\n      <td>张村驿</td>\n      <td>0.657335</td>\n      <td>2010-08-01</td>\n      <td>2020-10-01</td>\n    </tr>\n    <tr>\n      <th>0</th>\n      <td>折桥</td>\n      <td>0.164199</td>\n      <td>2010-08-01</td>\n      <td>2020-10-01</td>\n    </tr>\n    <tr>\n      <th>0</th>\n      <td>新安</td>\n      <td>0.747779</td>\n      <td>2010-08-01</td>\n      <td>2020-10-01</td>\n    </tr>\n    <tr>\n      <th>0</th>\n      <td>新庙</td>\n      <td>0.774697</td>\n      <td>2010-08-01</td>\n      <td>2020-10-01</td>\n    </tr>\n    <tr>\n      <th>0</th>\n      <td>朱园</td>\n      <td>0.770659</td>\n      <td>2010-08-01</td>\n      <td>2020-10-01</td>\n    </tr>\n    <tr>\n      <th>0</th>\n      <td>朱阳</td>\n      <td>0.711171</td>\n      <td>2010-08-01</td>\n      <td>2020-10-01</td>\n    </tr>\n    <tr>\n      <th>0</th>\n      <td>林家坪</td>\n      <td>0.788425</td>\n      <td>2010-08-01</td>\n      <td>2020-10-01</td>\n    </tr>\n    <tr>\n      <th>0</th>\n      <td>栾川</td>\n      <td>0.741857</td>\n      <td>2010-08-01</td>\n      <td>2020-10-01</td>\n    </tr>\n    <tr>\n      <th>0</th>\n      <td>武山</td>\n      <td>0.734859</td>\n      <td>2010-08-01</td>\n      <td>2020-10-01</td>\n    </tr>\n    <tr>\n      <th>0</th>\n      <td>洪德</td>\n      <td>0.778466</td>\n      <td>2010-08-01</td>\n      <td>2020-10-01</td>\n    </tr>\n    <tr>\n      <th>0</th>\n      <td>济源</td>\n      <td>0.380350</td>\n      <td>2010-08-01</td>\n      <td>2020-10-01</td>\n    </tr>\n    <tr>\n      <th>0</th>\n      <td>温家川</td>\n      <td>0.008345</td>\n      <td>2010-08-01</td>\n      <td>2020-10-01</td>\n    </tr>\n    <tr>\n      <th>0</th>\n      <td>漫湾</td>\n      <td>0.746972</td>\n      <td>2010-08-01</td>\n      <td>2020-10-01</td>\n    </tr>\n    <tr>\n      <th>0</th>\n      <td>潭头</td>\n      <td>0.756393</td>\n      <td>2010-08-01</td>\n      <td>2020-10-01</td>\n    </tr>\n    <tr>\n      <th>0</th>\n      <td>濮阳</td>\n      <td>0.353970</td>\n      <td>2010-08-01</td>\n      <td>2020-10-01</td>\n    </tr>\n    <tr>\n      <th>0</th>\n      <td>王道恒塔</td>\n      <td>0.770659</td>\n      <td>2010-08-01</td>\n      <td>2020-10-01</td>\n    </tr>\n    <tr>\n      <th>0</th>\n      <td>玛曲</td>\n      <td>0.001077</td>\n      <td>2010-08-01</td>\n      <td>2020-10-01</td>\n    </tr>\n    <tr>\n      <th>0</th>\n      <td>益门镇</td>\n      <td>0.741319</td>\n      <td>2010-08-01</td>\n      <td>2020-10-01</td>\n    </tr>\n    <tr>\n      <th>0</th>\n      <td>石嘴山</td>\n      <td>0.001077</td>\n      <td>2010-08-01</td>\n      <td>2020-10-01</td>\n    </tr>\n    <tr>\n      <th>0</th>\n      <td>碌曲</td>\n      <td>0.013459</td>\n      <td>2010-08-01</td>\n      <td>2020-10-01</td>\n    </tr>\n    <tr>\n      <th>0</th>\n      <td>神木</td>\n      <td>0.751817</td>\n      <td>2010-08-01</td>\n      <td>2020-10-01</td>\n    </tr>\n    <tr>\n      <th>0</th>\n      <td>秦渡镇</td>\n      <td>0.397847</td>\n      <td>2010-08-01</td>\n      <td>2020-10-01</td>\n    </tr>\n    <tr>\n      <th>0</th>\n      <td>绥德</td>\n      <td>0.768775</td>\n      <td>2010-08-01</td>\n      <td>2020-10-01</td>\n    </tr>\n    <tr>\n      <th>0</th>\n      <td>罗敷堡</td>\n      <td>0.470794</td>\n      <td>2010-08-01</td>\n      <td>2020-10-01</td>\n    </tr>\n    <tr>\n      <th>0</th>\n      <td>罗李村</td>\n      <td>0.497981</td>\n      <td>2010-08-01</td>\n      <td>2020-10-01</td>\n    </tr>\n    <tr>\n      <th>0</th>\n      <td>范县</td>\n      <td>0.064334</td>\n      <td>2010-08-01</td>\n      <td>2020-10-01</td>\n    </tr>\n    <tr>\n      <th>0</th>\n      <td>莱芜</td>\n      <td>0.554778</td>\n      <td>2010-08-01</td>\n      <td>2020-10-01</td>\n    </tr>\n    <tr>\n      <th>0</th>\n      <td>袁家庵</td>\n      <td>0.739166</td>\n      <td>2010-08-01</td>\n      <td>2020-10-01</td>\n    </tr>\n    <tr>\n      <th>0</th>\n      <td>裴沟</td>\n      <td>0.577120</td>\n      <td>2010-08-01</td>\n      <td>2020-10-01</td>\n    </tr>\n    <tr>\n      <th>0</th>\n      <td>贾桥</td>\n      <td>0.758008</td>\n      <td>2010-08-01</td>\n      <td>2020-10-01</td>\n    </tr>\n    <tr>\n      <th>0</th>\n      <td>门堂</td>\n      <td>0.486676</td>\n      <td>2010-08-01</td>\n      <td>2020-10-01</td>\n    </tr>\n    <tr>\n      <th>0</th>\n      <td>雨落坪</td>\n      <td>0.401077</td>\n      <td>2010-08-01</td>\n      <td>2020-10-01</td>\n    </tr>\n    <tr>\n      <th>0</th>\n      <td>青阳岔</td>\n      <td>0.773082</td>\n      <td>2010-08-01</td>\n      <td>2020-10-01</td>\n    </tr>\n    <tr>\n      <th>0</th>\n      <td>马渡王</td>\n      <td>0.402423</td>\n      <td>2010-08-01</td>\n      <td>2020-10-01</td>\n    </tr>\n    <tr>\n      <th>0</th>\n      <td>鹦鸽</td>\n      <td>0.732974</td>\n      <td>2010-08-01</td>\n      <td>2020-10-01</td>\n    </tr>\n  </tbody>\n</table>\n</div>"
     },
     "execution_count": 11,
     "metadata": {},
     "output_type": "execute_result"
    }
   ],
   "source": [
    "nan_rates=pd.DataFrame(columns=['name','nan_rate','start_date','end_date'])\n",
    "for name in sitenames:\n",
    "    # name=\"东园\"\n",
    "    df = pd.read_csv(runoff_daily_root / f\"{name}.csv\")\n",
    "    df['date']=pd.to_datetime(df['date'])\n",
    "    df.set_index('date', inplace=True)\n",
    "    # 设置最大时间范围\n",
    "    df = df.resample('D').asfreq()\n",
    "    df = df[start_date:end_data]\n",
    "    \n",
    "    nan_rate = df.isna().sum() / len(df)\n",
    "    # nan_rate\n",
    "    nan_rates=nan_rates.append(pd.DataFrame([[name,nan_rate.values[0],df.index[0],df.index[-1]]],columns=['name',\n",
    "                                                                                                       'nan_rate',\n",
    "                                                                                          'start_date','end_date']))\n",
    "\n",
    "    # break\n",
    "nan_rates"
   ],
   "metadata": {
    "collapsed": false,
    "ExecuteTime": {
     "end_time": "2023-12-22T07:37:07.478544600Z",
     "start_time": "2023-12-22T07:37:06.601414400Z"
    }
   },
   "id": "125010b68a4fbd0e"
  },
  {
   "cell_type": "code",
   "execution_count": null,
   "outputs": [],
   "source": [
    "\n",
    "name=\"林家坪\"\n",
    "df = pd.read_csv(runoff_daily_root / f\"{name}.csv\")\n",
    "df['date']=pd.to_datetime(df['date'])\n",
    "df.set_index('date', inplace=True)\n",
    "# 设置最大时间范围\n",
    "df = df.resample('D').asfreq()\n",
    "df = df[start_date:end_data]\n",
    "df=df.isna().sum(axis=1)\n",
    "df"
   ],
   "metadata": {
    "collapsed": false,
    "ExecuteTime": {
     "start_time": "2023-12-22T07:36:33.904493Z"
    }
   },
   "id": "d639162939e891a4"
  },
  {
   "cell_type": "code",
   "execution_count": null,
   "outputs": [],
   "source": [],
   "metadata": {
    "collapsed": false,
    "ExecuteTime": {
     "start_time": "2023-12-22T07:36:33.904493Z"
    }
   },
   "id": "5fc3773075949d2a"
  }
 ],
 "metadata": {
  "kernelspec": {
   "display_name": "Python 3",
   "language": "python",
   "name": "python3"
  },
  "language_info": {
   "codemirror_mode": {
    "name": "ipython",
    "version": 2
   },
   "file_extension": ".py",
   "mimetype": "text/x-python",
   "name": "python",
   "nbconvert_exporter": "python",
   "pygments_lexer": "ipython2",
   "version": "2.7.6"
  }
 },
 "nbformat": 4,
 "nbformat_minor": 5
}
